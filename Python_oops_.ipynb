{
  "nbformat": 4,
  "nbformat_minor": 0,
  "metadata": {
    "colab": {
      "provenance": []
    },
    "kernelspec": {
      "name": "python3",
      "display_name": "Python 3"
    },
    "language_info": {
      "name": "python"
    }
  },
  "cells": [
    {
      "cell_type": "markdown",
      "source": [
        "PYTHON OOPs QUESTIONS :"
      ],
      "metadata": {
        "id": "9h75xNfmPAbE"
      }
    },
    {
      "cell_type": "markdown",
      "source": [
        "1) What is object oriented programming (oop)?\n",
        "  -The object oriented programming is a programming paradigm centered around the concepts of objects, wqhich combine data (attribute) and behaviour (method) .Python support oops ,allowing you to model real world entities and their interaction in a clean and reusable way.\n",
        "  core concept of oops in python :\n",
        "  1. class\n",
        "  2. object\n",
        "  3. Encapsulation\n",
        "  4. Inheritance\n",
        "  5. Polymorphism\n",
        "  6. Abstraction\n",
        "    "
      ],
      "metadata": {
        "id": "x7AgZ_M6PWqi"
      }
    },
    {
      "cell_type": "markdown",
      "source": [
        "2) What is a class in OOP ?\n",
        "- A class is a user defined data type that serves as a blueprint for creating objects . It encapsulates data for object and method to manipulate that data.\n",
        "example:\n",
        " - class Dog:\n",
        "def bark (self):\n",
        "print (\"woof!\")\n",
        "d = Dog()\n",
        "d.bark()\n",
        " - Dog = class\n",
        " - d = object\n",
        " - bark()= method\n"
      ],
      "metadata": {
        "id": "qdicxbzeadu3"
      }
    },
    {
      "cell_type": "markdown",
      "source": [
        "3) What is an object in OOP ?\n",
        " - An object is a runtime instance of a class that encapsulates data (attribute/state) and the operation (method/ behavior) that can be performed on that data.It represents a real - world entity and provides a way to model both its characteristics and actions in programmning .\n",
        " - Essential characteristics of object:\n",
        " - Identity: Every object has a unique identity(like memory address).\n",
        " - State: Represents data stored in attributes (e.g. brand, color)\n",
        " - Behavior: Defines what object can do (methods like drive())."
      ],
      "metadata": {
        "id": "TLLz7sgleNMG"
      }
    },
    {
      "cell_type": "markdown",
      "source": [
        "4) What is the difference between abstraction and encapsulation?\n",
        "-  Abstraction:\n",
        "- Abstraction is the process of hiding implementation details and showing only the essential features of an object .\n",
        "- Focus : What an object does\n",
        "- Achieved by:\n",
        "  - Abstract classes\n",
        "  - interfaces\n",
        "- Example:\n",
        "  - When you drive a car , you use steering wheel ,accelerator , and brakes (function), but you don't know the internal engine mechanism (implementation is hidden ).\n",
        "- Encapsulation:\n",
        "- Encapsulation is the process of wrapping data (variables) and methods (function) together into a single unit (class) and controlling access to them.\n",
        "- Focus: How the data is accessed and protected .\n",
        "- Achieved by:\n",
        "  - using classes\n",
        "  - Access modifiers (public , private , protected)\n",
        "- Example:\n",
        "- The cars speedometer data is hidden inside the cars system . you can only see or control it through specific methods .\n",
        "\n",
        "\n",
        "\n"
      ],
      "metadata": {
        "id": "A1NUgL7kQ_8z"
      }
    },
    {
      "cell_type": "markdown",
      "source": [
        "5) What are dunder methods in Python ?\n",
        "- Dunder methods (\"double underscore \" method) are special predefined methods in python .They always start and end with two underscores(__).\n",
        "They are also called magic methods or special methods because they let you define how objects of a class behave built-in operations like +, len(),print(), comparisons, etc .\n",
        "- Example of common dunder methods:\n",
        "  -  __init__ : constructer method , called when an object is created\n",
        "  - __str__ : Defines string representation of an object (used in print())\n",
        "  - __repr__: Official string representation of an object (for developers)\n",
        "  - __len__: Defines behavior of len (object)\n",
        "  - __add__: Defines  behavior of + operator between objects.\n",
        "  - __eq__: Defines behavior of ==(equality check)\n",
        "  - __getitem__: Define behavior of indexing (obj[key])\n",
        "  - __call__: Makes an object callable like a function   \n"
      ],
      "metadata": {
        "id": "_aaSeb_7UvAW"
      }
    },
    {
      "cell_type": "markdown",
      "source": [
        "6) Explain the concept of inheritance in OOP ?\n",
        "- Inheritance is an oop concept where a new class( called the child class or derived class) acquires the properties (attribute) and behavior (methods) of an existing class ( called the parent class or base class).\n",
        "It allows code reusability and support the concept of a hierarcy .\n",
        "- Key points:\n",
        "  - parent/ Base class: The class whose features are inherited .\n",
        "  - Child/ Derived class: The class that inherits from the parent.\n",
        "  - Purpose : code reusability ,method overriding ,and polymorphism.\n"
      ],
      "metadata": {
        "id": "Yl6JNx_GQuJB"
      }
    },
    {
      "cell_type": "markdown",
      "source": [
        "7) What is polymorphism in OOP ?\n",
        "-Polymorphism is the ability of an object , method , or operator to take on multiple forms by allowing the same interface (such as a function name or operator ) to be used for different underlying data types or classes , where the specific implementation that is executed is determined either at compile - time (method overloading , operator overloading ) or at run - time ( method overriding).\n",
        "- types of polymorphism:\n",
        "1) compile- time polymorphism\n",
        "2) Run- time polymorphism\n"
      ],
      "metadata": {
        "id": "pnN7vzXyVSow"
      }
    },
    {
      "cell_type": "markdown",
      "source": [
        "8) How is encapsulation achieved in Python ?\n",
        "- Encapsulation in python is achieved mainly through restricting direct access to variable (data members) and methods and instead providing getter and setter methods to control how data is accessed or modified .\n",
        "- Ways Encapsulation is achieved in python:\n",
        "1. Public Members: Accessible from anywhere .\n",
        "2. Protected Members : Indicated with a single underscore _ before the variable name.suggests that it should not be accessed directly outside the class(but still possible).\n",
        "3. Private Members: Declared using double underscore __.\n",
        "  - Name mangling is applied (_className__variable).\n",
        "  - cannot be accessed directly outside the class.\n",
        "\n",
        "\n",
        "\n"
      ],
      "metadata": {
        "id": "iSg_BS1Hdtwi"
      }
    },
    {
      "cell_type": "markdown",
      "source": [
        "9) What is a constructor in Python ?\n",
        "- In python , a constructor is a special method used to initialize the attributes of an object when the object is created.\n",
        " - The constructer in python is always is always named __init__().\n",
        " - It is automatically called when you create a new object of a class.\n",
        " - Its main purpose is it set initial values for the object properties .\n",
        "   - Syntax:\n",
        "  -  class ClassName:\n",
        " -   def__init__(self, parameters):\n",
        "  -  self.attribute= parameters\n"
      ],
      "metadata": {
        "id": "MYUI1UMdgsC8"
      }
    },
    {
      "cell_type": "markdown",
      "source": [
        "10) What are class and static methods in Python ?\n",
        "- Class Methods :\n",
        "  - Defined using the @classmethod decorator.\n",
        "  - The first parameter is always cls(which refers to the class itself ,not the instance).\n",
        "  - Can access and modify class-level attribute ,but not instance- specific attributes directly.\n",
        "  - Useful when you want a method that logically belongs to the class as a whole.\n",
        "- Static Methods:\n",
        "  - Defined using the @staticmethod decorator.\n",
        "  - They dont take self (instance) or cls (class) as the first parameter.\n",
        "  - They can't just utility functions placed inside a class for better organization .\n",
        "  - They can't access or modify class or instance attributes directly .\n",
        "\n",
        "\n"
      ],
      "metadata": {
        "id": "v2CQFxlekkoo"
      }
    },
    {
      "cell_type": "markdown",
      "source": [
        "11) What is method overloading in Python ?\n",
        "- Method overloading refers to the ability to define multiple methods in the same class with the same name but different numbers or types of parameters.\n",
        "However ,Python doesn't support traditional methpod overloading like java or c++.In python ,if multiple method with same are defined ,the last definition overrides the previous ones .\n",
        "Instead , python achieves similar functionality by using:\n",
        "  - default arguments\n",
        "  - variable- length arguments(*args,**kwargs) or\n",
        "  - function overloading through functools.singledispatch.\n"
      ],
      "metadata": {
        "id": "caJ1EnBPO-Gl"
      }
    },
    {
      "cell_type": "markdown",
      "source": [
        "12) What is method overriding in OOP ?\n",
        "- Method overriding is a feature of object - oriented programming where a subclass proviudes its own implementation of a method that is already defined in its parent (super) class.\n",
        "  - The method in the child class must have the same name ,same parameters , and same return type (or compatible type ) as the method in the parent class.\n",
        "  - The version in the child class overrides the one in the parent class at runtime .\n",
        "  - It is mainly used to implement polymorphism and to give a subclass behavior specific to its need .\n"
      ],
      "metadata": {
        "id": "ReLw5ZApRLMh"
      }
    },
    {
      "cell_type": "markdown",
      "source": [
        "13) What is a property decorator in Python ?\n",
        "- The property decorator in python is used to define a method in a class that can be accessed like an attribute.\n",
        "  - Normally , methods need to be called with parenthesis ()\n",
        "  - With @property , you can access the method without parenthesis ,as if it were a variable .\n",
        "  - it's commonly used to implement getter, setter and deleter methods in a clean , Pythonic way.\n"
      ],
      "metadata": {
        "id": "NHkFLC7cUkOw"
      }
    },
    {
      "cell_type": "markdown",
      "source": [
        "14)  Why is polymorphism important in OOP ?\n",
        "- Polymorphism in object oriented Programming is the ability of an object , method , or operator to take on multiple forms , allowing the same interface(method name or operator) to represent different underlying behaviors depending on the object that invokes it .\n",
        " - importance :\n",
        " 1. code reusability: write general code that works with different types of object.\n",
        " 2. flexibility & extensibility: new classes can be added without changing existing code ,as long as they follow same interface.\n",
        " 3. Simplifies code: no need to write separate methods for every class\n",
        " 4. supports abstraction: users of class dont need to know the exact implementation ,just how to interact with it.\n",
        " 5. promotes maintainability: changes in one class do not affect others as long as the interface remains constant.\n"
      ],
      "metadata": {
        "id": "uMnfHrGPV3ew"
      }
    },
    {
      "cell_type": "markdown",
      "source": [
        "15) What is an abstract class in Python ?\n",
        "- An abstract class in python is a class that cannot be instatiated directly and serves as a blueprint or template for other classes . It is designed to be subclassed ,and its primary purpose is to define a common interface that all its concrete (non- abstract ) subclasses must implement.\n",
        "\n"
      ],
      "metadata": {
        "id": "IuVgjKumZsAG"
      }
    },
    {
      "cell_type": "markdown",
      "source": [
        "16) What are the advantages of OOP ?\n",
        "- Advantages of oop:\n",
        "1. Modularity: code is divided into classes and objects , making it easier to manage , understand , and debug .\n",
        "2. Reusability: classes and methods can be reused in other programs without rewriting code\n",
        "3. Scalability & Maintainability: changes in code are easier to implement without affecting the entire program\n",
        "4. Abstraction : hides unnecessary details and shows only essential features , making complex systems easier to work with.\n",
        "5. Polymorphism: same interface can represent different functionalities, increasing flexibilty .\n",
        "6. Encapsulation : Data is protected and only accessible through defined methods , improving security and preventing misuse.\n"
      ],
      "metadata": {
        "id": "Gf9br6skbY0N"
      }
    },
    {
      "cell_type": "markdown",
      "source": [
        "17) What is the difference between a class variable and an instance variable ?\n",
        "- class variable:\n",
        "   - Definition: A variable declared within a class but outside of any instance method or constructor .\n",
        "   -  Scope: shared by all instances (object) of the class.There is only copy of a class variable, regardless of how many instances are created.\n",
        "   - Storage : Stored in a memory location associated with the class itself , not individual objects.\n",
        "   - Access: can be accessed using the class name (e.g: ClassName.class_variable)or an instance of the class(e.g: instance_name. class_variable).\n",
        "- Instance variable:\n",
        "  - Definition: A variable declared within a class and typically initialized within a constructor or instance method .\n",
        "  - Scope: unique to each instance of the class. Each instance has its own separate copy of an instance variable.\n",
        "  - storage: stored in a memory location associated with the specific instances (object) on the heap.\n",
        "  - Access: can only be accessed using an instance of the class(e.g: instance_name. instance_variable).\n",
        "\n",
        "\n"
      ],
      "metadata": {
        "id": "x-8ipH0JdlWV"
      }
    },
    {
      "cell_type": "markdown",
      "source": [
        "18)  What is multiple inheritance in Python ?\n",
        "- Multiple inheritance in python is a feature that allows a class to inherit attributes and methods from more than one parent class.This means a single child class can combine functionalities and characteristic from multiple base classes.\n",
        "- how it works:\n",
        " When defining a class that utilizes multiple inheritance , you list all the parent classes within the parentheses after the child class name , separated by commas.\n"
      ],
      "metadata": {
        "id": "2xmu9IZviPmV"
      }
    },
    {
      "cell_type": "markdown",
      "source": [
        "19) Explain the purpose of ‘’__str__’ and ‘__repr__’ ‘ methods in Python ?\n",
        "-  __str__ method:\n",
        "   -  purpose: To return a \"user-friendly\" or readable string representation of the object.\n",
        "   -  used by: The built-in str()function and the print()function .\n",
        "   -  Goal: to show something easy to understand for humans.\n",
        "- __repr__ method:\n",
        "   - purpose: To return an \" official\" or unambiguos string representation of the object .\n",
        "   - used by : The built-in repr() function and also when you just type the object name in a python shell/ console.\n",
        "   - goal: should help devlopers/debuggers understand or even recreate the object .\n",
        "\n",
        "\n",
        "\n",
        "\n"
      ],
      "metadata": {
        "id": "eAikId41kt1W"
      }
    },
    {
      "cell_type": "markdown",
      "source": [
        "20) What is the significance of the ‘super()’ function in Python ?\n",
        "-  The super() function is used in object - oriented programming (oop) to give you access to methods of a parent (super) class without explicitly naming it .\n",
        "It is especially used in inheritance when a child wants to extend or modify the behavior of the parent class without completely overriding it .\n",
        "   - Significance:\n",
        "   1. Code reusability: you can reuse parent class method instead of rewriting them .\n",
        "   2. Maintainability: If the parent class name changes, you don't need to update it everywhere (since super()is dynamic)\n",
        "   3. Multiple Inheritance Support: In complex hierarchies , super () follows the MRO (method resolution order) to call the correct parent class method.\n",
        "   4. Avoid duplication: Prevents you from hardcoding parent class names repeatedly.\n"
      ],
      "metadata": {
        "id": "ET90OoyXqu8a"
      }
    },
    {
      "cell_type": "markdown",
      "source": [
        "21) What is the significance of the __del__ method in Python ?\n",
        "- _ _ del_ _ is a special/dunder method in python also called the dectructer.\n",
        "It is automatically called when an object is about to be destroyed (i.e when Python's garbage collector removes it or when you explicitly use del on the object .\n",
        "    - Significance of __del__:\n",
        "    1. Clean up resources: It is mainly used to release resources like: closing files , releasing network connections, freeing memory or database connections.\n",
        "    2. Final actions before deletion : It gives you a way to define what should happen right before an object is destroyed .\n",
        "    3. Help prevent resources leaks : If you open files /sockets inside a class, __del __ ensures  they dont remains open unnecessarily .\n"
      ],
      "metadata": {
        "id": "GMU0K_WvtqR9"
      }
    },
    {
      "cell_type": "markdown",
      "source": [
        "22)  What is the difference between @staticmethod and @classmethod in Python ?\n",
        "\n",
        "- @staticmethod:\n",
        "   - A method that does not take self or cls as the first argument .\n",
        "   - It behaves like a normal function inside a class, but is logically grouped with the class\n",
        "   - cannot access or modify instances state(self) or class state(cls).\n",
        "   - useful when the methods logic is related to the class but doesnt need object/class data.\n",
        "- @classmethod:\n",
        "   - A method that take cls ( the class itself ) as the first argument instead of self .\n",
        "   - Can access or modify class-level attribute shared across all instances.\n",
        "   - useful for factory methods or when you want methods that affect the whole class rather than just one object.\n"
      ],
      "metadata": {
        "id": "0W2Jr5iAwx1y"
      }
    },
    {
      "cell_type": "markdown",
      "source": [
        "23) How does polymorphism work in Python with inheritance ?\n",
        "- Polymorphism means many forms , in oops it means that a single method or operator can have different behaviors depending on the object that calls it.When combined with inheritance , it allows a child class to overrides methods from a parent class , and python will dynamically decide which version to call at ruuntime. This is called method overriding .\n",
        " - Example of polymorphism with inheritance\n",
        "\n",
        "     \n"
      ],
      "metadata": {
        "id": "vk5Sucvx1Rnp"
      }
    },
    {
      "cell_type": "code",
      "source": [
        "class Animal:\n",
        "  def make_sound(self):\n",
        "    pass\n",
        "\n",
        "class Dog(Animal):\n",
        "  def make_sound(self):\n",
        "    print(\"Woof!\")\n",
        "\n",
        "class Cat(Animal):\n",
        "  def make_sound(self):\n",
        "    print(\"Meow!\")"
      ],
      "metadata": {
        "id": "9w53oaqA3As7"
      },
      "execution_count": null,
      "outputs": []
    },
    {
      "cell_type": "markdown",
      "source": [
        "24) What is method chaining in Python OOP ?\n",
        "- Method chaining means calling multiple methods on the same object in a single line , one after the other.\n",
        "- Each method returns the the object itself (self) so that the next method can be called on it.\n",
        "- This is common in fluent interfaces (seen in libraries like pandas).\n",
        " Significance of method chaining:\n",
        " 1. clear mode : avoids multiple lines for repeated method calls.\n",
        " 2. fluent interface : reads like natural lang.\n",
        " 3. used in popular libraries (pandas ).\n"
      ],
      "metadata": {
        "id": "GXqBAOxl3WQU"
      }
    },
    {
      "cell_type": "markdown",
      "metadata": {
        "id": "c93878d8"
      },
      "source": [
        "25. What is the purpose of the **call** method in Python?\n",
        "- The **call** method allows an instance of a class to be called like a function.\n",
        "- If a class implements the **call** method, creating an object of that class and then calling the object (e.g., `my_object()`) will execute the code inside the **call** method.\n",
        "- This is often used to create function-like objects or instances where the object's primary purpose is to perform an action when invoked.\n",
        "- It can make code more readable and allows for state to be maintained within the object that is being \"called\".\n",
        "- It's particularly useful for creating objects that behave like functions but can also hold data or configuration."
      ]
    },
    {
      "cell_type": "markdown",
      "source": [
        "PRACTICAL QUESTION :\n"
      ],
      "metadata": {
        "id": "ZAGS64PqaLSb"
      }
    },
    {
      "cell_type": "markdown",
      "source": [
        "1) Create a parent class Animal with a method speak() that prints a generic message. Create a child class Dog that overrides the speak() method to print \"Bark!\".  \n"
      ],
      "metadata": {
        "id": "aomMtU_7aaEL"
      }
    },
    {
      "cell_type": "code",
      "source": [
        "class Animal:\n",
        "  def speak(self):\n",
        "    print(\"Generic animal sound\")\n",
        "\n",
        "class Dog(Animal):\n",
        "  def speak(self):\n",
        "    print(\"Bark!\")\n",
        "\n",
        "# Example usage:\n",
        "animal = Animal()\n",
        "dog = Dog()\n",
        "\n",
        "animal.speak()\n",
        "dog.speak()"
      ],
      "metadata": {
        "colab": {
          "base_uri": "https://localhost:8080/"
        },
        "id": "Gh81w1dyap65",
        "outputId": "fc0f0c86-5a78-4cbb-df12-284f258f77ff"
      },
      "execution_count": null,
      "outputs": [
        {
          "output_type": "stream",
          "name": "stdout",
          "text": [
            "Generic animal sound\n",
            "Bark!\n"
          ]
        }
      ]
    },
    {
      "cell_type": "markdown",
      "source": [
        "2. Write a program to create an abstract class Shape with a method area(). Derive classes Circle and Rectangle from it and implement the area() method in both.\n"
      ],
      "metadata": {
        "id": "2pKpJoIYbF8Y"
      }
    },
    {
      "cell_type": "code",
      "source": [
        "from abc import ABC, abstractmethod\n",
        "import math\n",
        "\n",
        "class Shape(ABC):\n",
        "    @abstractmethod\n",
        "    def area(self):\n",
        "        pass\n",
        "\n",
        "class Circle(Shape):\n",
        "    def __init__(self, radius):\n",
        "        self.radius = radius\n",
        "\n",
        "    def area(self):\n",
        "        return math.pi * self.radius**2\n",
        "\n",
        "class Rectangle(Shape):\n",
        "    def __init__(self, length, width):\n",
        "        self.length = length\n",
        "        self.width = width\n",
        "\n",
        "    def area(self):\n",
        "        return self.length * self.width\n",
        "\n",
        "circle = Circle(5)\n",
        "rectangle = Rectangle(4, 6)\n",
        "\n",
        "print(f\"Area of Circle: {circle.area()}\")\n",
        "print(f\"Area of Rectangle: {rectangle.area()}\")"
      ],
      "metadata": {
        "colab": {
          "base_uri": "https://localhost:8080/"
        },
        "id": "Rd2dcehUbOvw",
        "outputId": "0286f215-bb60-4fcd-dd0a-b9c85ab722b6"
      },
      "execution_count": null,
      "outputs": [
        {
          "output_type": "stream",
          "name": "stdout",
          "text": [
            "Area of Circle: 78.53981633974483\n",
            "Area of Rectangle: 24\n"
          ]
        }
      ]
    },
    {
      "cell_type": "markdown",
      "source": [
        "3. Implement a multi-level inheritance scenario where a class Vehicle has an attribute type. Derive a class Car and further derive a class ElectricCar that adds a battery attribute.\n"
      ],
      "metadata": {
        "id": "WEXsM2dgbm0z"
      }
    },
    {
      "cell_type": "code",
      "source": [
        "class Vehicle:\n",
        "    def __init__(self, vehicle_type):\n",
        "        self.type = vehicle_type\n",
        "\n",
        "class Car(Vehicle):\n",
        "    def __init__(self, vehicle_type, model):\n",
        "        super().__init__(vehicle_type)\n",
        "        self.model = model\n",
        "\n",
        "class ElectricCar(Car):\n",
        "    def __init__(self, vehicle_type, model, battery_capacity):\n",
        "        super().__init__(vehicle_type, model)\n",
        "        self.battery = battery_capacity\n",
        "electric_car = ElectricCar(\"car\", \"Tesla Model S\", \"100 kWh\")\n",
        "\n",
        "print(f\"Vehicle Type: {electric_car.type}\")\n",
        "print(f\"Car Model: {electric_car.model}\")\n",
        "print(f\"Battery Capacity: {electric_car.battery}\")"
      ],
      "metadata": {
        "colab": {
          "base_uri": "https://localhost:8080/"
        },
        "id": "u2_7CPmfbw1j",
        "outputId": "69bd009d-3157-46d9-b461-0638cb31e802"
      },
      "execution_count": null,
      "outputs": [
        {
          "output_type": "stream",
          "name": "stdout",
          "text": [
            "Vehicle Type: car\n",
            "Car Model: Tesla Model S\n",
            "Battery Capacity: 100 kWh\n"
          ]
        }
      ]
    },
    {
      "cell_type": "markdown",
      "source": [
        "4. Demonstrate polymorphism by creating a base class Bird with a method fly(). Create two derived classes Sparrow and Penguin that override the fly() method.\n",
        "\n"
      ],
      "metadata": {
        "id": "SG_NuHF2cDIZ"
      }
    },
    {
      "cell_type": "code",
      "metadata": {
        "colab": {
          "base_uri": "https://localhost:8080/"
        },
        "id": "67a404c3",
        "outputId": "080f2cbb-3532-4ce2-f70d-b636e3c99e60"
      },
      "source": [
        "class Bird:\n",
        "    def fly(self):\n",
        "        print(\"Birds can generally fly.\")\n",
        "\n",
        "class Sparrow(Bird):\n",
        "    def fly(self):\n",
        "        print(\"Sparrows fly gracefully.\")\n",
        "\n",
        "class Penguin(Bird):\n",
        "    def fly(self):\n",
        "        print(\"Penguins cannot fly, but they can swim!\")\n",
        "\n",
        "# Example usage:\n",
        "bird = Bird()\n",
        "sparrow = Sparrow()\n",
        "penguin = Penguin()\n",
        "\n",
        "bird.fly()\n",
        "sparrow.fly()\n",
        "penguin.fly()"
      ],
      "execution_count": null,
      "outputs": [
        {
          "output_type": "stream",
          "name": "stdout",
          "text": [
            "Birds can generally fly.\n",
            "Sparrows fly gracefully.\n",
            "Penguins cannot fly, but they can swim!\n"
          ]
        }
      ]
    },
    {
      "cell_type": "markdown",
      "source": [
        "5. Write a program to demonstrate encapsulation by creating a class BankAccount with private attributes balance and methods to deposit, withdraw, and check balance.\n"
      ],
      "metadata": {
        "id": "S6rcw5A_caW6"
      }
    },
    {
      "cell_type": "code",
      "metadata": {
        "colab": {
          "base_uri": "https://localhost:8080/"
        },
        "id": "78bbe014",
        "outputId": "ad369575-0dbc-4a52-cb09-486870d09b1a"
      },
      "source": [
        "class BankAccount:\n",
        "    def __init__(self, initial_balance=0):\n",
        "        self.__balance = initial_balance # Private attribute\n",
        "\n",
        "    def deposit(self, amount):\n",
        "        if amount > 0:\n",
        "            self.__balance += amount\n",
        "            print(f\"Deposited: ${amount}. New balance: ${self.__balance}\")\n",
        "        else:\n",
        "            print(\"Deposit amount must be positive.\")\n",
        "\n",
        "    def withdraw(self, amount):\n",
        "        if 0 < amount <= self.__balance:\n",
        "            self.__balance -= amount\n",
        "            print(f\"Withdrew: ${amount}. New balance: ${self.__balance}\")\n",
        "        elif amount > self.__balance:\n",
        "            print(\"Insufficient funds.\")\n",
        "        else:\n",
        "            print(\"Withdrawal amount must be positive.\")\n",
        "\n",
        "    def get_balance(self):\n",
        "        return self.__balance\n",
        "\n",
        "# Example usage:\n",
        "account = BankAccount(100)\n",
        "account.deposit(50)\n",
        "account.withdraw(20)\n",
        "print(f\"Current balance: ${account.get_balance()}\")"
      ],
      "execution_count": null,
      "outputs": [
        {
          "output_type": "stream",
          "name": "stdout",
          "text": [
            "Deposited: $50. New balance: $150\n",
            "Withdrew: $20. New balance: $130\n",
            "Current balance: $130\n"
          ]
        }
      ]
    },
    {
      "cell_type": "markdown",
      "source": [
        "6. Demonstrate runtime polymorphism using a method play() in a base class Instrument. Derive classes Guitar and Piano that implement their own version of play().\n"
      ],
      "metadata": {
        "id": "f60JPxZQcwoK"
      }
    },
    {
      "cell_type": "code",
      "metadata": {
        "colab": {
          "base_uri": "https://localhost:8080/"
        },
        "id": "99188552",
        "outputId": "982da718-23d3-48a3-cdda-075ff7b70632"
      },
      "source": [
        "class Instrument:\n",
        "    def play(self):\n",
        "        pass  # Base class method, to be overridden\n",
        "\n",
        "class Guitar(Instrument):\n",
        "    def play(self):\n",
        "        print(\"Guitar playing: Strum strum...\")\n",
        "\n",
        "class Piano(Instrument):\n",
        "    def play(self):\n",
        "        print(\"Piano playing: Plink plonk...\")\n",
        "\n",
        "# Example usage:\n",
        "def make_instrument_play(instrument):\n",
        "    instrument.play()\n",
        "\n",
        "guitar = Guitar()\n",
        "piano = Piano()\n",
        "\n",
        "make_instrument_play(guitar)\n",
        "make_instrument_play(piano)"
      ],
      "execution_count": null,
      "outputs": [
        {
          "output_type": "stream",
          "name": "stdout",
          "text": [
            "Guitar playing: Strum strum...\n",
            "Piano playing: Plink plonk...\n"
          ]
        }
      ]
    },
    {
      "cell_type": "markdown",
      "source": [
        "7. Create a class MathOperations with a class method add_numbers() to add two numbers and a static method subtract_numbers() to subtract two numbers.\n"
      ],
      "metadata": {
        "id": "l2FRtdEVdA-0"
      }
    },
    {
      "cell_type": "code",
      "metadata": {
        "colab": {
          "base_uri": "https://localhost:8080/"
        },
        "id": "abd2ac4d",
        "outputId": "21b4f0b7-24ab-41ef-ba99-fa5df78eeeb8"
      },
      "source": [
        "class MathOperations:\n",
        "    @classmethod\n",
        "    def add_numbers(cls, x, y):\n",
        "        return x + y\n",
        "\n",
        "    @staticmethod\n",
        "    def subtract_numbers(x, y):\n",
        "        return x - y\n",
        "\n",
        "# Example usage:\n",
        "print(f\"Addition using class method: {MathOperations.add_numbers(10, 5)}\")\n",
        "print(f\"Subtraction using static method: {MathOperations.subtract_numbers(10, 5)}\")\n",
        "\n",
        "# You can also call class methods on an instance, though it's less common\n",
        "math_obj = MathOperations()\n",
        "print(f\"Addition using instance and class method: {math_obj.add_numbers(20, 10)}\")\n",
        "# Static methods can also be called on an instance\n",
        "print(f\"Subtraction using instance and static method: {math_obj.subtract_numbers(20, 10)}\")"
      ],
      "execution_count": null,
      "outputs": [
        {
          "output_type": "stream",
          "name": "stdout",
          "text": [
            "Addition using class method: 15\n",
            "Subtraction using static method: 5\n",
            "Addition using instance and class method: 30\n",
            "Subtraction using instance and static method: 10\n"
          ]
        }
      ]
    },
    {
      "cell_type": "markdown",
      "source": [
        "8. Implement a class Person with a class method to count the total number of persons created."
      ],
      "metadata": {
        "id": "FLkvn6O7dUM-"
      }
    },
    {
      "cell_type": "code",
      "metadata": {
        "colab": {
          "base_uri": "https://localhost:8080/"
        },
        "id": "01dce805",
        "outputId": "e62094d0-b2c8-4067-8803-3a120853bd4d"
      },
      "source": [
        "class Person:\n",
        "    total_persons = 0  # Class variable to keep track of the count\n",
        "\n",
        "    def __init__(self, name):\n",
        "        self.name = name\n",
        "        Person.total_persons += 1  # Increment the class variable when a new instance is created\n",
        "\n",
        "    @classmethod\n",
        "    def get_total_persons(cls):\n",
        "        return cls.total_persons\n",
        "\n",
        "# Example usage:\n",
        "person1 = Person(\"Alice\")\n",
        "person2 = Person(\"Bob\")\n",
        "person3 = Person(\"Charlie\")\n",
        "\n",
        "print(f\"Total number of persons created: {Person.get_total_persons()}\")"
      ],
      "execution_count": null,
      "outputs": [
        {
          "output_type": "stream",
          "name": "stdout",
          "text": [
            "Total number of persons created: 3\n"
          ]
        }
      ]
    },
    {
      "cell_type": "markdown",
      "source": [
        "9. Write a class Fraction with attributes numerator and denominator. Override the str method to display the fraction as \"numerator/denominator\".\n"
      ],
      "metadata": {
        "id": "jd3qBjlwdjVQ"
      }
    },
    {
      "cell_type": "code",
      "metadata": {
        "colab": {
          "base_uri": "https://localhost:8080/"
        },
        "id": "807d7171",
        "outputId": "213a124d-684c-46c8-93af-a8ca78dc2544"
      },
      "source": [
        "class Fraction:\n",
        "    def __init__(self, numerator, denominator):\n",
        "        self.numerator = numerator\n",
        "        self.denominator = denominator\n",
        "\n",
        "    def __str__(self):\n",
        "        return f\"{self.numerator}/{self.denominator}\"\n",
        "\n",
        "# Example usage:\n",
        "fraction1 = Fraction(3, 4)\n",
        "print(fraction1)\n",
        "\n",
        "fraction2 = Fraction(1, 2)\n",
        "print(str(fraction2))"
      ],
      "execution_count": null,
      "outputs": [
        {
          "output_type": "stream",
          "name": "stdout",
          "text": [
            "3/4\n",
            "1/2\n"
          ]
        }
      ]
    },
    {
      "cell_type": "markdown",
      "source": [
        "10. Demonstrate operator overloading by creating a class Vector and overriding the add method to add two vectors.\n"
      ],
      "metadata": {
        "id": "aPyysVjZd6kK"
      }
    },
    {
      "cell_type": "code",
      "metadata": {
        "colab": {
          "base_uri": "https://localhost:8080/"
        },
        "id": "bad4f250",
        "outputId": "acfbf493-f7f9-4e55-e3a8-368d63336e2c"
      },
      "source": [
        "class Vector:\n",
        "    def __init__(self, x, y):\n",
        "        self.x = x\n",
        "        self.y = y\n",
        "\n",
        "    def __add__(self, other):\n",
        "        if isinstance(other, Vector):\n",
        "            return Vector(self.x + other.x, self.y + other.y)\n",
        "        else:\n",
        "            raise TypeError(\"Can only add a Vector to another Vector\")\n",
        "\n",
        "    def __str__(self):\n",
        "        return f\"Vector({self.x}, {self.y})\"\n",
        "\n",
        "# Example usage:\n",
        "vector1 = Vector(2, 3)\n",
        "vector2 = Vector(1, 4)\n",
        "\n",
        "vector3 = vector1 + vector2\n",
        "print(vector3)"
      ],
      "execution_count": null,
      "outputs": [
        {
          "output_type": "stream",
          "name": "stdout",
          "text": [
            "Vector(3, 7)\n"
          ]
        }
      ]
    },
    {
      "cell_type": "markdown",
      "source": [
        "11. Create a class Person with attributes name and age. Add a method greet() that prints \"Hello, my name is {name} and I am {age} years old.\"\n"
      ],
      "metadata": {
        "id": "HKtqJasaeOAQ"
      }
    },
    {
      "cell_type": "code",
      "metadata": {
        "colab": {
          "base_uri": "https://localhost:8080/"
        },
        "id": "0a3caf28",
        "outputId": "52072e87-03a2-44b8-bd50-b7a1b156f05c"
      },
      "source": [
        "class Person:\n",
        "    def __init__(self, name, age):\n",
        "        self.name = name\n",
        "        self.age = age\n",
        "\n",
        "    def greet(self):\n",
        "        print(f\"Hello, my name is {self.name} and I am {self.age} years old.\")\n",
        "\n",
        "# Example usage:\n",
        "person1 = Person(\"Alice\", 30)\n",
        "person1.greet()\n",
        "\n",
        "person2 = Person(\"Bob\", 25)\n",
        "person2.greet()"
      ],
      "execution_count": null,
      "outputs": [
        {
          "output_type": "stream",
          "name": "stdout",
          "text": [
            "Hello, my name is Alice and I am 30 years old.\n",
            "Hello, my name is Bob and I am 25 years old.\n"
          ]
        }
      ]
    },
    {
      "cell_type": "markdown",
      "source": [
        "12. Implement a class Student with attributes name and grades. Create a method average_grade() to compute the average of the grades.\n"
      ],
      "metadata": {
        "id": "LHEg1QGeecLc"
      }
    },
    {
      "cell_type": "code",
      "metadata": {
        "colab": {
          "base_uri": "https://localhost:8080/"
        },
        "id": "dc9eb9c1",
        "outputId": "0e5821d0-05cc-4a26-d18f-77f76e1f542d"
      },
      "source": [
        "class Student:\n",
        "    def __init__(self, name, grades):\n",
        "        self.name = name\n",
        "        self.grades = grades\n",
        "\n",
        "    def average_grade(self):\n",
        "        if not self.grades:\n",
        "            return 0\n",
        "        return sum(self.grades) / len(self.grades)\n",
        "\n",
        "# Example usage:\n",
        "student1 = Student(\"Alice\", [90, 85, 92, 88])\n",
        "student2 = Student(\"Bob\", [78, 80, 75, 82])\n",
        "\n",
        "print(f\"{student1.name}'s average grade: {student1.average_grade()}\")\n",
        "print(f\"{student2.name}'s average grade: {student2.average_grade()}\")\n",
        "\n",
        "student3 = Student(\"Charlie\", [])\n",
        "print(f\"{student3.name}'s average grade: {student3.average_grade()}\")"
      ],
      "execution_count": null,
      "outputs": [
        {
          "output_type": "stream",
          "name": "stdout",
          "text": [
            "Alice's average grade: 88.75\n",
            "Bob's average grade: 78.75\n",
            "Charlie's average grade: 0\n"
          ]
        }
      ]
    },
    {
      "cell_type": "markdown",
      "source": [
        "13. Create a class Rectangle with methods set_dimensions() to set the dimensions and area() to calculate the area.\n"
      ],
      "metadata": {
        "id": "t8224dR2euIC"
      }
    },
    {
      "cell_type": "code",
      "metadata": {
        "colab": {
          "base_uri": "https://localhost:8080/"
        },
        "id": "44cade31",
        "outputId": "329590d1-cd22-4ba7-934b-201a0e063ff0"
      },
      "source": [
        "class Rectangle:\n",
        "    def __init__(self):\n",
        "        self.length = 0\n",
        "        self.width = 0\n",
        "\n",
        "    def set_dimensions(self, length, width):\n",
        "        if length >= 0 and width >= 0:\n",
        "            self.length = length\n",
        "            self.width = width\n",
        "        else:\n",
        "            print(\"Dimensions must be non-negative.\")\n",
        "\n",
        "    def area(self):\n",
        "        return self.length * self.width\n",
        "\n",
        "# Example usage:\n",
        "rectangle = Rectangle()\n",
        "rectangle.set_dimensions(10, 5)\n",
        "print(f\"Area of the rectangle: {rectangle.area()}\")\n",
        "\n",
        "rectangle.set_dimensions(7, 3)\n",
        "print(f\"Area of the rectangle: {rectangle.area()}\")\n",
        "\n",
        "rectangle.set_dimensions(-2, 4) # Example of invalid input\n",
        "print(f\"Area after invalid input: {rectangle.area()}\") # Area remains based on last valid dimensions"
      ],
      "execution_count": null,
      "outputs": [
        {
          "output_type": "stream",
          "name": "stdout",
          "text": [
            "Area of the rectangle: 50\n",
            "Area of the rectangle: 21\n",
            "Dimensions must be non-negative.\n",
            "Area after invalid input: 21\n"
          ]
        }
      ]
    },
    {
      "cell_type": "markdown",
      "source": [
        "14. Create a class Employee with a method calculate_salary() that computes the salary based on hours worked and hourly rate. Create a derived class Manager that adds a bonus to the salary.\n",
        "\n"
      ],
      "metadata": {
        "id": "4TjD004FfDIY"
      }
    },
    {
      "cell_type": "code",
      "metadata": {
        "colab": {
          "base_uri": "https://localhost:8080/"
        },
        "id": "1484b04f",
        "outputId": "c7b2b50a-4945-4783-8406-449629af0092"
      },
      "source": [
        "class Employee:\n",
        "    def __init__(self, hours_worked, hourly_rate):\n",
        "        self.hours_worked = hours_worked\n",
        "        self.hourly_rate = hourly_rate\n",
        "\n",
        "    def calculate_salary(self):\n",
        "        return self.hours_worked * self.hourly_rate\n",
        "\n",
        "class Manager(Employee):\n",
        "    def __init__(self, hours_worked, hourly_rate, bonus):\n",
        "        super().__init__(hours_worked, hourly_rate)\n",
        "        self.bonus = bonus\n",
        "\n",
        "    def calculate_salary(self):\n",
        "        base_salary = super().calculate_salary()\n",
        "        return base_salary + self.bonus\n",
        "\n",
        "# Example usage:\n",
        "employee = Employee(40, 15)\n",
        "print(f\"Employee salary: ${employee.calculate_salary()}\")\n",
        "\n",
        "manager = Manager(40, 20, 500)\n",
        "print(f\"Manager salary: ${manager.calculate_salary()}\")"
      ],
      "execution_count": null,
      "outputs": [
        {
          "output_type": "stream",
          "name": "stdout",
          "text": [
            "Employee salary: $600\n",
            "Manager salary: $1300\n"
          ]
        }
      ]
    },
    {
      "cell_type": "markdown",
      "source": [
        "15. Create a class Product with attributes name, price, and quantity. Implement a method total_price() that calculates the total price of the product.\n"
      ],
      "metadata": {
        "id": "PuRTCWvPfiMp"
      }
    },
    {
      "cell_type": "code",
      "metadata": {
        "colab": {
          "base_uri": "https://localhost:8080/"
        },
        "id": "177af414",
        "outputId": "e45f3e7f-92cd-4181-b669-f5d2e0d7ddd8"
      },
      "source": [
        "class Product:\n",
        "    def __init__(self, name, price, quantity):\n",
        "        self.name = name\n",
        "        self.price = price\n",
        "        self.quantity = quantity\n",
        "\n",
        "    def total_price(self):\n",
        "        return self.price * self.quantity\n",
        "\n",
        "# Example usage:\n",
        "product1 = Product(\"Laptop\", 1200, 1)\n",
        "print(f\"Total price of {product1.name}: ${product1.total_price()}\")\n",
        "\n",
        "product2 = Product(\"Mouse\", 25, 5)\n",
        "print(f\"Total price of {product2.name}: ${product2.total_price()}\")"
      ],
      "execution_count": null,
      "outputs": [
        {
          "output_type": "stream",
          "name": "stdout",
          "text": [
            "Total price of Laptop: $1200\n",
            "Total price of Mouse: $125\n"
          ]
        }
      ]
    },
    {
      "cell_type": "markdown",
      "source": [
        "16. Create a class Animal with an abstract method sound(). Create two derived classes Cow and Sheep that implement the sound() method.\n"
      ],
      "metadata": {
        "id": "7cZ6us98gANo"
      }
    },
    {
      "cell_type": "code",
      "metadata": {
        "colab": {
          "base_uri": "https://localhost:8080/"
        },
        "id": "f394f4c0",
        "outputId": "fc40f0cc-cc36-45f5-8e9c-327cb7eef4ec"
      },
      "source": [
        "from abc import ABC, abstractmethod\n",
        "\n",
        "class Animal(ABC):\n",
        "    @abstractmethod\n",
        "    def sound(self):\n",
        "        pass\n",
        "\n",
        "class Cow(Animal):\n",
        "    def sound(self):\n",
        "        print(\"Moo!\")\n",
        "\n",
        "class Sheep(Animal):\n",
        "    def sound(self):\n",
        "        print(\"Baa!\")\n",
        "\n",
        "cow = Cow()\n",
        "sheep = Sheep()\n",
        "\n",
        "cow.sound()\n",
        "sheep.sound()"
      ],
      "execution_count": null,
      "outputs": [
        {
          "output_type": "stream",
          "name": "stdout",
          "text": [
            "Moo!\n",
            "Baa!\n"
          ]
        }
      ]
    },
    {
      "cell_type": "markdown",
      "source": [
        "17. Create a class Book with attributes title, author, and year_published. Add a method get_book_info() that returns a formatted string with the book's details.\n"
      ],
      "metadata": {
        "id": "0rTOKylYgalS"
      }
    },
    {
      "cell_type": "code",
      "metadata": {
        "colab": {
          "base_uri": "https://localhost:8080/"
        },
        "id": "84f68ba7",
        "outputId": "682d55ad-d7fc-48b4-c59a-8857ba70fa9a"
      },
      "source": [
        "class Book:\n",
        "    def __init__(self, title, author, year_published):\n",
        "        self.title = title\n",
        "        self.author = author\n",
        "        self.year_published = year_published\n",
        "\n",
        "    def get_book_info(self):\n",
        "        return f\"Title: {self.title}, Author: {self.author}, Year Published: {self.year_published}\"\n",
        "\n",
        "# Example usage:\n",
        "book1 = Book(\"The Hitchhiker's Guide to the Galaxy\", \"Douglas Adams\", 1979)\n",
        "print(book1.get_book_info())\n",
        "\n",
        "book2 = Book(\"Pride and Prejudice\", \"Jane Austen\", 1813)\n",
        "print(book2.get_book_info())"
      ],
      "execution_count": null,
      "outputs": [
        {
          "output_type": "stream",
          "name": "stdout",
          "text": [
            "Title: The Hitchhiker's Guide to the Galaxy, Author: Douglas Adams, Year Published: 1979\n",
            "Title: Pride and Prejudice, Author: Jane Austen, Year Published: 1813\n"
          ]
        }
      ]
    },
    {
      "cell_type": "markdown",
      "source": [
        "18. Create a class House with attributes address and price. Create a derived class Mansion that adds an attribute number_of_rooms.\n"
      ],
      "metadata": {
        "id": "xJ9snKFGg2Uz"
      }
    },
    {
      "cell_type": "code",
      "metadata": {
        "colab": {
          "base_uri": "https://localhost:8080/"
        },
        "id": "8ff04381",
        "outputId": "e30e8d84-428c-4b6d-c170-4c2bd7b68cac"
      },
      "source": [
        "class House:\n",
        "    def __init__(self, address, price):\n",
        "        self.address = address\n",
        "        self.price = price\n",
        "\n",
        "class Mansion(House):\n",
        "    def __init__(self, address, price, number_of_rooms):\n",
        "        super().__init__(address, price)\n",
        "        self.number_of_rooms = number_of_rooms\n",
        "\n",
        "# Example usage:\n",
        "house = House(\"123 Main St\", 300000)\n",
        "mansion = Mansion(\"456 Oak Ave\", 1500000, 20)\n",
        "\n",
        "print(f\"House Address: {house.address}, Price: ${house.price}\")\n",
        "print(f\"Mansion Address: {mansion.address}, Price: ${mansion.price}, Rooms: {mansion.number_of_rooms}\")"
      ],
      "execution_count": null,
      "outputs": [
        {
          "output_type": "stream",
          "name": "stdout",
          "text": [
            "House Address: 123 Main St, Price: $300000\n",
            "Mansion Address: 456 Oak Ave, Price: $1500000, Rooms: 20\n"
          ]
        }
      ]
    }
  ]
}